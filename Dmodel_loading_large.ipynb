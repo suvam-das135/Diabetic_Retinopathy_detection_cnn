{
 "cells": [
  {
   "cell_type": "markdown",
   "source": [
    "## LOADING LIBRARIES"
   ],
   "metadata": {
    "collapsed": false,
    "pycharm": {
     "name": "#%% md\n"
    }
   }
  },
  {
   "cell_type": "code",
   "execution_count": 1,
   "metadata": {
    "collapsed": true,
    "pycharm": {
     "name": "#%%\n"
    }
   },
   "outputs": [],
   "source": [
    "import cv2\n",
    "import numpy as np\n",
    "import pandas as pd\n",
    "import tensorflow as tf\n",
    "from tensorflow import keras\n",
    "from keras.models import Sequential\n",
    "from keras.layers import Dense, Dropout, Flatten, Input\n",
    "from keras.layers import Conv2D, MaxPooling2D\n",
    "import matplotlib.pyplot as plt\n",
    "from sklearn.model_selection import train_test_split\n",
    "from tqdm import tqdm\n",
    "%matplotlib inline"
   ]
  },
  {
   "cell_type": "markdown",
   "source": [
    "## LOADING DATASET-LABELS"
   ],
   "metadata": {
    "collapsed": false,
    "pycharm": {
     "name": "#%% md\n"
    }
   }
  },
  {
   "cell_type": "code",
   "execution_count": 2,
   "outputs": [
    {
     "data": {
      "text/plain": "                   Image name Ophthalmologic department  Retinopathy grade  \\\n0  20051216_43814_0200_PP.tif         CHU de St Etienne                  0   \n1  20051216_43913_0200_PP.tif         CHU de St Etienne                  0   \n2  20051216_44066_0200_PP.tif         CHU de St Etienne                  0   \n3  20051216_44092_0200_PP.tif         CHU de St Etienne                  0   \n4  20051216_44221_0200_PP.tif         CHU de St Etienne                  0   \n\n   Risk of macular edema   \n0                       0  \n1                       0  \n2                       0  \n3                       0  \n4                       0  ",
      "text/html": "<div>\n<style scoped>\n    .dataframe tbody tr th:only-of-type {\n        vertical-align: middle;\n    }\n\n    .dataframe tbody tr th {\n        vertical-align: top;\n    }\n\n    .dataframe thead th {\n        text-align: right;\n    }\n</style>\n<table border=\"1\" class=\"dataframe\">\n  <thead>\n    <tr style=\"text-align: right;\">\n      <th></th>\n      <th>Image name</th>\n      <th>Ophthalmologic department</th>\n      <th>Retinopathy grade</th>\n      <th>Risk of macular edema</th>\n    </tr>\n  </thead>\n  <tbody>\n    <tr>\n      <th>0</th>\n      <td>20051216_43814_0200_PP.tif</td>\n      <td>CHU de St Etienne</td>\n      <td>0</td>\n      <td>0</td>\n    </tr>\n    <tr>\n      <th>1</th>\n      <td>20051216_43913_0200_PP.tif</td>\n      <td>CHU de St Etienne</td>\n      <td>0</td>\n      <td>0</td>\n    </tr>\n    <tr>\n      <th>2</th>\n      <td>20051216_44066_0200_PP.tif</td>\n      <td>CHU de St Etienne</td>\n      <td>0</td>\n      <td>0</td>\n    </tr>\n    <tr>\n      <th>3</th>\n      <td>20051216_44092_0200_PP.tif</td>\n      <td>CHU de St Etienne</td>\n      <td>0</td>\n      <td>0</td>\n    </tr>\n    <tr>\n      <th>4</th>\n      <td>20051216_44221_0200_PP.tif</td>\n      <td>CHU de St Etienne</td>\n      <td>0</td>\n      <td>0</td>\n    </tr>\n  </tbody>\n</table>\n</div>"
     },
     "execution_count": 2,
     "metadata": {},
     "output_type": "execute_result"
    }
   ],
   "source": [
    "train = pd.read_csv('new_eye_data.csv', encoding='ISO-8859-1')    # reading the csv file\n",
    "train.head()      # printing first five rows of the file"
   ],
   "metadata": {
    "collapsed": false,
    "pycharm": {
     "name": "#%%\n"
    }
   }
  },
  {
   "cell_type": "code",
   "execution_count": 3,
   "outputs": [
    {
     "data": {
      "text/plain": "                   Image name  Retinopathy grade\n0  20051216_43814_0200_PP.tif                  0\n1  20051216_43913_0200_PP.tif                  0\n2  20051216_44066_0200_PP.tif                  0\n3  20051216_44092_0200_PP.tif                  0\n4  20051216_44221_0200_PP.tif                  0",
      "text/html": "<div>\n<style scoped>\n    .dataframe tbody tr th:only-of-type {\n        vertical-align: middle;\n    }\n\n    .dataframe tbody tr th {\n        vertical-align: top;\n    }\n\n    .dataframe thead th {\n        text-align: right;\n    }\n</style>\n<table border=\"1\" class=\"dataframe\">\n  <thead>\n    <tr style=\"text-align: right;\">\n      <th></th>\n      <th>Image name</th>\n      <th>Retinopathy grade</th>\n    </tr>\n  </thead>\n  <tbody>\n    <tr>\n      <th>0</th>\n      <td>20051216_43814_0200_PP.tif</td>\n      <td>0</td>\n    </tr>\n    <tr>\n      <th>1</th>\n      <td>20051216_43913_0200_PP.tif</td>\n      <td>0</td>\n    </tr>\n    <tr>\n      <th>2</th>\n      <td>20051216_44066_0200_PP.tif</td>\n      <td>0</td>\n    </tr>\n    <tr>\n      <th>3</th>\n      <td>20051216_44092_0200_PP.tif</td>\n      <td>0</td>\n    </tr>\n    <tr>\n      <th>4</th>\n      <td>20051216_44221_0200_PP.tif</td>\n      <td>0</td>\n    </tr>\n  </tbody>\n</table>\n</div>"
     },
     "execution_count": 3,
     "metadata": {},
     "output_type": "execute_result"
    }
   ],
   "source": [
    "train = train[['Image name', 'Retinopathy grade']]\n",
    "train.head()"
   ],
   "metadata": {
    "collapsed": false,
    "pycharm": {
     "name": "#%%\n"
    }
   }
  },
  {
   "cell_type": "markdown",
   "source": [
    "## CREATING HISTOGRAM EQUALISATION"
   ],
   "metadata": {
    "collapsed": false,
    "pycharm": {
     "name": "#%% md\n"
    }
   }
  },
  {
   "cell_type": "code",
   "execution_count": 4,
   "outputs": [],
   "source": [
    "def get_histogram(image, bins):\n",
    "    # array with size of bins, set to zeros\n",
    "    histogram = np.zeros(bins)\n",
    "\n",
    "    # loop through pixels and sum up counts of pixels\n",
    "    for pixel in image:\n",
    "        histogram[pixel] += 1\n",
    "\n",
    "    # return our final result\n",
    "    return histogram"
   ],
   "metadata": {
    "collapsed": false,
    "pycharm": {
     "name": "#%%\n"
    }
   }
  },
  {
   "cell_type": "markdown",
   "source": [
    "## CREATING CUMMULATIVE SUM FUNCTION"
   ],
   "metadata": {
    "collapsed": false,
    "pycharm": {
     "name": "#%% md\n"
    }
   }
  },
  {
   "cell_type": "code",
   "execution_count": 5,
   "outputs": [],
   "source": [
    "def cumsum(a):\n",
    "    a = iter(a)\n",
    "    b = [next(a)]\n",
    "    for i in a:\n",
    "        b.append(b[-1] + i)\n",
    "    return np.array(b)"
   ],
   "metadata": {
    "collapsed": false,
    "pycharm": {
     "name": "#%%\n"
    }
   }
  },
  {
   "cell_type": "markdown",
   "source": [
    "## LOADING IMAGE DATASET AND PREPROCESSING"
   ],
   "metadata": {
    "collapsed": false,
    "pycharm": {
     "name": "#%% md\n"
    }
   }
  },
  {
   "cell_type": "code",
   "execution_count": 6,
   "outputs": [
    {
     "name": "stderr",
     "output_type": "stream",
     "text": [
      "100%|██████████| 1200/1200 [02:03<00:00,  9.71it/s]\n"
     ]
    }
   ],
   "source": [
    "scale_percent = 60\n",
    "train_image = []\n",
    "for i in tqdm(range(train.shape[0])):\n",
    "    image = cv2.imread('eye_data/'+train['Image name'][i])\n",
    "\n",
    "    # resize image\n",
    "    #width = int(image.shape[1] * scale_percent / 100)\n",
    "    #height = int(image.shape[0] * scale_percent / 100)\n",
    "    dim = (200, 200)\n",
    "    resized = cv2.resize(image, dim, interpolation = cv2.INTER_AREA)\n",
    "\n",
    "    RGBimg = cv2.cvtColor(resized, cv2.COLOR_BGR2RGB)\n",
    "    img_t = cv2.addWeighted(RGBimg,4, cv2.GaussianBlur(RGBimg , (0,0) , 30) ,-4 ,128)\n",
    "    gray = cv2.cvtColor(img_t, cv2.COLOR_RGB2GRAY)\n",
    "    flat = gray.flatten()\n",
    "    hist = get_histogram(flat, 256)\n",
    "    cs = cumsum(hist)\n",
    "    nj = (cs - cs.min()) * 255\n",
    "    N = cs.max() - cs.min()\n",
    "    # re-normalize the cumsum\n",
    "    cs = nj / N\n",
    "    # cast it back to uint8 since we can't use floating point values in images\n",
    "    cs = cs.astype('uint8')\n",
    "    img_new = cs[flat]\n",
    "    img_new = np.reshape(img_new, gray.shape)\n",
    "    train_image.append(img_new)\n",
    "\n",
    "X = np.array(train_image)"
   ],
   "metadata": {
    "collapsed": false,
    "pycharm": {
     "name": "#%%\n"
    }
   }
  },
  {
   "cell_type": "code",
   "execution_count": 7,
   "outputs": [
    {
     "data": {
      "text/plain": "(1200, 200, 200)"
     },
     "execution_count": 7,
     "metadata": {},
     "output_type": "execute_result"
    }
   ],
   "source": [
    "X.shape"
   ],
   "metadata": {
    "collapsed": false,
    "pycharm": {
     "name": "#%%\n"
    }
   }
  },
  {
   "cell_type": "code",
   "execution_count": 8,
   "outputs": [
    {
     "data": {
      "text/plain": "<matplotlib.image.AxesImage at 0x1b01fed4ac0>"
     },
     "execution_count": 8,
     "metadata": {},
     "output_type": "execute_result"
    },
    {
     "data": {
      "text/plain": "<Figure size 432x288 with 1 Axes>",
      "image/png": "[encoded data removed]"
     },
     "metadata": {
      "needs_background": "light"
     },
     "output_type": "display_data"
    }
   ],
   "source": [
    "plt.imshow(X[2])"
   ],
   "metadata": {
    "collapsed": false,
    "pycharm": {
     "name": "#%%\n"
    }
   }
  },
  {
   "cell_type": "code",
   "execution_count": 9,
   "outputs": [
    {
     "data": {
      "text/plain": "(1200, 1)"
     },
     "execution_count": 9,
     "metadata": {},
     "output_type": "execute_result"
    }
   ],
   "source": [
    "y = np.array(train.drop(['Image name'],axis=1))\n",
    "y.shape"
   ],
   "metadata": {
    "collapsed": false,
    "pycharm": {
     "name": "#%%\n"
    }
   }
  },
  {
   "cell_type": "code",
   "execution_count": 10,
   "outputs": [],
   "source": [
    "y = y.reshape(-1)"
   ],
   "metadata": {
    "collapsed": false,
    "pycharm": {
     "name": "#%%\n"
    }
   }
  },
  {
   "cell_type": "code",
   "execution_count": 11,
   "outputs": [
    {
     "data": {
      "text/plain": "(1200,)"
     },
     "execution_count": 11,
     "metadata": {},
     "output_type": "execute_result"
    }
   ],
   "source": [
    "y.shape"
   ],
   "metadata": {
    "collapsed": false,
    "pycharm": {
     "name": "#%%\n"
    }
   }
  },
  {
   "cell_type": "code",
   "execution_count": 12,
   "outputs": [],
   "source": [
    "X_train, X_test, y_train, y_test = train_test_split(X, y, random_state=42, test_size=0.2)"
   ],
   "metadata": {
    "collapsed": false,
    "pycharm": {
     "name": "#%%\n"
    }
   }
  },
  {
   "cell_type": "code",
   "execution_count": 13,
   "outputs": [
    {
     "name": "stdout",
     "output_type": "stream",
     "text": [
      "(960, 200, 200)\n",
      "(240, 200, 200)\n"
     ]
    }
   ],
   "source": [
    "print(X_train.shape)\n",
    "print(X_test.shape)\n"
   ],
   "metadata": {
    "collapsed": false,
    "pycharm": {
     "name": "#%%\n"
    }
   }
  },
  {
   "cell_type": "code",
   "execution_count": 14,
   "outputs": [],
   "source": [
    "X_train = X_train.reshape(-1, 200, 200, 1)\n",
    "X_test = X_test.reshape(-1, 200, 200, 1)"
   ],
   "metadata": {
    "collapsed": false,
    "pycharm": {
     "name": "#%%\n"
    }
   }
  },
  {
   "cell_type": "code",
   "execution_count": 15,
   "outputs": [
    {
     "name": "stdout",
     "output_type": "stream",
     "text": [
      "(960, 200, 200, 1)\n",
      "(240, 200, 200, 1)\n"
     ]
    }
   ],
   "source": [
    "print(X_train.shape)\n",
    "print(X_test.shape)\n"
   ],
   "metadata": {
    "collapsed": false,
    "pycharm": {
     "name": "#%%\n"
    }
   }
  },
  {
   "cell_type": "markdown",
   "source": [
    "## LOADING SAVED MODEL"
   ],
   "metadata": {
    "collapsed": false,
    "pycharm": {
     "name": "#%% md\n"
    }
   }
  },
  {
   "cell_type": "code",
   "execution_count": 16,
   "outputs": [],
   "source": [
    "with tf.device('/device:CPU:0'):\n",
    " reconstructed_model = keras.models.load_model(\"final_95.83_model.h5\")"
   ],
   "metadata": {
    "collapsed": false,
    "pycharm": {
     "name": "#%%\n"
    }
   }
  },
  {
   "cell_type": "code",
   "execution_count": 17,
   "outputs": [
    {
     "name": "stdout",
     "output_type": "stream",
     "text": [
      "Model: \"sequential_20\"\n",
      "_________________________________________________________________\n",
      " Layer (type)                Output Shape              Param #   \n",
      "=================================================================\n",
      " conv2d_120 (Conv2D)         (None, 200, 200, 64)      640       \n",
      "                                                                 \n",
      " max_pooling2d_85 (MaxPoolin  (None, 100, 100, 64)     0         \n",
      " g2D)                                                            \n",
      "                                                                 \n",
      " conv2d_121 (Conv2D)         (None, 100, 100, 128)     73856     \n",
      "                                                                 \n",
      " max_pooling2d_86 (MaxPoolin  (None, 50, 50, 128)      0         \n",
      " g2D)                                                            \n",
      "                                                                 \n",
      " flatten_24 (Flatten)        (None, 320000)            0         \n",
      "                                                                 \n",
      " dense_83 (Dense)            (None, 128)               40960128  \n",
      "                                                                 \n",
      " dropout_66 (Dropout)        (None, 128)               0         \n",
      "                                                                 \n",
      " dense_84 (Dense)            (None, 64)                8256      \n",
      "                                                                 \n",
      " dropout_67 (Dropout)        (None, 64)                0         \n",
      "                                                                 \n",
      " dense_85 (Dense)            (None, 4)                 260       \n",
      "                                                                 \n",
      "=================================================================\n",
      "Total params: 41,043,140\n",
      "Trainable params: 41,043,140\n",
      "Non-trainable params: 0\n",
      "_________________________________________________________________\n"
     ]
    }
   ],
   "source": [
    "reconstructed_model.summary()"
   ],
   "metadata": {
    "collapsed": false,
    "pycharm": {
     "name": "#%%\n"
    }
   }
  },
  {
   "cell_type": "markdown",
   "source": [
    "## MODEL PREDICTION (on training set)"
   ],
   "metadata": {
    "collapsed": false,
    "pycharm": {
     "name": "#%% md\n"
    }
   }
  },
  {
   "cell_type": "code",
   "execution_count": 18,
   "outputs": [],
   "source": [
    "with tf.device('/device:CPU:0'):\n",
    "    y_pred = reconstructed_model.predict(X)\n",
    "    y_class=np.argmax(y_pred,axis=1)"
   ],
   "metadata": {
    "collapsed": false,
    "pycharm": {
     "name": "#%%\n"
    }
   }
  },
  {
   "cell_type": "markdown",
   "source": [
    "## MODEL EVALUATION<BR>\n",
    "1) ACCURACY\n",
    "2) PRECISION\n",
    "3) RECALL\n",
    "4) F1 SCORE"
   ],
   "metadata": {
    "collapsed": false,
    "pycharm": {
     "name": "#%% md\n"
    }
   }
  },
  {
   "cell_type": "code",
   "execution_count": 19,
   "outputs": [
    {
     "name": "stdout",
     "output_type": "stream",
     "text": [
      "Accuracy: 0.873333\n",
      "Precision: 0.873491\n",
      "Recall: 0.873333\n",
      "F1 score: 0.872853\n"
     ]
    }
   ],
   "source": [
    "from sklearn.metrics import accuracy_score, precision_score, recall_score, f1_score\n",
    "accuracy = accuracy_score(y, y_class)\n",
    "print('Accuracy: %f' % accuracy)\n",
    "# precision tp / (tp + fp)\n",
    "precision = precision_score(y, y_class, average='weighted')\n",
    "print('Precision: %f' % precision)\n",
    "# recall: tp / (tp + fn)\n",
    "recall = recall_score(y, y_class, average='weighted')\n",
    "print('Recall: %f' % recall)\n",
    "# f1: 2 tp / (2 tp + fp + fn)\n",
    "f1 = f1_score(y, y_class, average='weighted')\n",
    "print('F1 score: %f' % f1)"
   ],
   "metadata": {
    "collapsed": false,
    "pycharm": {
     "name": "#%%\n"
    }
   }
  },
  {
   "cell_type": "code",
   "execution_count": 37,
   "outputs": [],
   "source": [],
   "metadata": {
    "collapsed": false,
    "pycharm": {
     "name": "#%%\n"
    }
   }
  }
 ],
 "metadata": {
  "kernelspec": {
   "display_name": "Python 3",
   "language": "python",
   "name": "python3"
  },
  "language_info": {
   "codemirror_mode": {
    "name": "ipython",
    "version": 2
   },
   "file_extension": ".py",
   "mimetype": "text/x-python",
   "name": "python",
   "nbconvert_exporter": "python",
   "pygments_lexer": "ipython2",
   "version": "2.7.6"
  }
 },
 "nbformat": 4,
 "nbformat_minor": 0
}